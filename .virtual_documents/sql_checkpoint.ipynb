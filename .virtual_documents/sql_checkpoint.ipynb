


# Run this cell without changes
import sqlite3
import pandas as pd





# Run this cell without changes
northwind_path = 'Northwind.sqlite'

# Open up a connection
conn = sqlite3.connect(northwind_path)
# Initialize a cursor
cursor = conn.cursor()











# Run this cell without changes
table_name_query = """SELECT name 
                      AS 'Table Names' 
                      FROM sqlite_master 
                      WHERE type='table';"""

pd.read_sql(table_name_query, conn)





# CodeGrade step1
# Replace None with appropriate code

# Selecting all columns and rows from the Product table
first_query = "SELECT * FROM Product;"

# Use the line below to check your query's output
pd.read_sql(first_query, conn).head()


# first_query should be a string
assert type(first_query) == str

# first_query should be a SQL query
first_query_df = pd.read_sql(first_query, conn)





# CodeGrade step2
# Replace None with appropriate code

# Selecting all columns from the Product table where the product is discontinued
second_query = """
SELECT * 
FROM Product 
WHERE Discontinued = 1;
"""
# Use the line below to check your query's output
pd.read_sql(second_query, conn)


# second_query should be a string
assert type(second_query) == str

# second_query should be a SQL query
second_query_df = pd.read_sql(second_query, conn)





# CodeGrade step3
# Replace None with appropriate code

# Selecting the product name out of stock and not discontinued
third_query = """
SELECT ProductName 
FROM Product 
WHERE UnitsInStock = 0 
AND Discontinued = 0;
"""
# Use the line below to check your query's output
pd.read_sql(third_query, conn)


# third_query should be a string
assert type(third_query) == str

# third_query should be a SQL query
third_query_df = pd.read_sql(third_query, conn)





# CodeGrade step4
# Replace None with appropriate code

# Selecting product name and unit price(in descending order), and limiting to the top 5
fourth_query = """
SELECT ProductName, UnitPrice
FROM Product
ORDER BY UnitPrice DESC
LIMIT 5;
"""
# Use the line below to check your query's output
pd.read_sql(fourth_query, conn)


# fourth_query should be a string
assert type(fourth_query) == str

# fourth_query should be a SQL query
fourth_query_df = pd.read_sql(fourth_query, conn)





# CodeGrade step5
# Replace None with appropriate code

# Joining the Shipper and Order tables, filtering for orders with freight costs above $1000
fifth_query = """
SELECT Shipper.CompanyName, Shipper.Phone
FROM Shipper
JOIN "Order" ON Shipper.Id = "Order".ShipVia
WHERE "Order".Freight > 1000;
"""
# Use the line below to check your query's output
pd.read_sql(fifth_query, conn)


# fifth_query should be a string
assert type(fifth_query) == str

# fifth_query should be a SQL query
fifth_query_df = pd.read_sql(fifth_query, conn)
